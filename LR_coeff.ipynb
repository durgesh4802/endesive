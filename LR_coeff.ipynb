{
  "nbformat": 4,
  "nbformat_minor": 0,
  "metadata": {
    "colab": {
      "provenance": [],
      "authorship_tag": "ABX9TyPMwEStMUH4hFe0rgBYZM7v",
      "include_colab_link": true
    },
    "kernelspec": {
      "name": "python3",
      "display_name": "Python 3"
    },
    "language_info": {
      "name": "python"
    }
  },
  "cells": [
    {
      "cell_type": "markdown",
      "metadata": {
        "id": "view-in-github",
        "colab_type": "text"
      },
      "source": [
        "<a href=\"https://colab.research.google.com/github/durgesh4802/endesive/blob/master/LR_coeff.ipynb\" target=\"_parent\"><img src=\"https://colab.research.google.com/assets/colab-badge.svg\" alt=\"Open In Colab\"/></a>"
      ]
    },
    {
      "cell_type": "code",
      "execution_count": null,
      "metadata": {
        "id": "69xm-jsLRSiY"
      },
      "outputs": [],
      "source": [
        "import pandas as pd\n",
        "import numpy as np\n",
        "import matplotlib.pyplot as plt\n",
        "x=[2,4,6,8]\n",
        "x=np.array(x).reshape(4,-1)\n",
        "y=[6,8,12,15]\n",
        "ymat=np.array(y).reshape(4,-1)\n",
        "from sklearn.linear_model import LinearRegression\n",
        "lr=LinearRegression()\n",
        "lr.fit(x,y)\n",
        "coef_scikit=lr.coef_\n",
        "intercept=lr.intercept_\n",
        "\n",
        "xty=np.transpose(x-x.mean()).dot(ymat-ymat.mean())\n",
        "xtx=np.transpose(x-x.mean()).dot(x-x.mean())\n",
        "coef_assignment=xty/xtx  # based on derivative formula\n",
        "xty=np.transpose(x).dot(ymat)\n",
        "xtx=np.transpose(x).dot(x)\n",
        "coef_class=xty/xtx\n",
        "print(coef_scikit,coef_class, coef_assignment)"
      ]
    }
  ]
}